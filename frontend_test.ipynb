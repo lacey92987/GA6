{
 "cells": [
  {
   "cell_type": "markdown",
   "metadata": {},
   "source": [
    "# Expense recorder for my Journey Journal\n",
    "This won't quite work the way I intended"
   ]
  },
  {
   "cell_type": "code",
   "execution_count": 40,
   "metadata": {},
   "outputs": [],
   "source": [
    "import requests\n",
    "from flask import jsonify\n",
    "import json\n",
    "from dash import Dash, html, dcc, callback, Output, Input, dash_table\n",
    "import pandas as pd\n",
    "from datetime import datetime\n",
    "\n",
    "# Set base URL for API calls\n",
    "url = 'http://localhost:5000/'\n",
    "\n",
    "# We'll use this to append to the base URL for specific API calls\n",
    "url_part = ''\n",
    "\n",
    "# We'll reserve the payload for POST/PUT methods generally\n",
    "payload = {}\n",
    "\n",
    "# We don't have any specific headers, but this can be used for authentication if required\n",
    "headers = {}"
   ]
  },
  {
   "cell_type": "markdown",
   "metadata": {},
   "source": [
    "Navigate to a trip"
   ]
  },
  {
   "cell_type": "code",
   "execution_count": 36,
   "metadata": {},
   "outputs": [],
   "source": [
    "# Ask for a trip ID (this will be replaced with a dropdown in the app)\n",
    "trip_id = input(\"Enter trip id: \")\n",
    "\n",
    "# Get the trip information\n",
    "url_part = 'trips/' + str(trip_id)\n",
    "response = requests.request(\"GET\", url + url_part, headers=headers, data=payload)\n",
    "trip = response.json()\n",
    "\n",
    "# Get the trip information and format a trip title\n",
    "destination = trip['destination']\n",
    "start_date = datetime.strptime(trip['start_date'], '%a, %d %b %Y %H:%M:%S %Z') # Convert to datetime object\n",
    "end_date = datetime.strptime(trip['end_date'], '%a, %d %b %Y %H:%M:%S %Z') # Convert to datetime object\n",
    "\n",
    "trip_title = destination + ': ' + start_date.strftime('%b %#d, %Y') + ' - ' + end_date.strftime('%b %#d, %Y')\n",
    "\n",
    "# Get the trip's expenses\n",
    "url_part = 'trips/' + str(trip_id) + '/expenses'\n",
    "response = requests.request(\"GET\", url + url_part, headers=headers, data=payload)\n",
    "expenses = response.json()"
   ]
  },
  {
   "cell_type": "code",
   "execution_count": 57,
   "metadata": {},
   "outputs": [
    {
     "data": {
      "text/html": [
       "\n",
       "        <iframe\n",
       "            width=\"100%\"\n",
       "            height=\"650\"\n",
       "            src=\"http://127.0.0.1:8050/\"\n",
       "            frameborder=\"0\"\n",
       "            allowfullscreen\n",
       "            \n",
       "        ></iframe>\n",
       "        "
      ],
      "text/plain": [
       "<IPython.lib.display.IFrame at 0x22f1af44610>"
      ]
     },
     "metadata": {},
     "output_type": "display_data"
    }
   ],
   "source": [
    "import dash_table\n",
    "\n",
    "app = Dash(__name__)\n",
    "\n",
    "app.layout = html.Div([\n",
    "    html.Div([\n",
    "        'Search a different trip:',\n",
    "        dcc.Input(id='input-on-submit', type='text')\n",
    "    ]),\n",
    "    html.H2(children=trip_title, style={'textAlign':'left'}),\n",
    "    html.H1(children='EXPENSES', style={'textAlign':'left'}),\n",
    "    html.Div([\n",
    "        html.Button('Add an expense', id='submit-val', n_clicks=0),\n",
    "        \" \",\n",
    "        html.Button('Edit an expense', id='submit-val2', n_clicks=0)\n",
    "    ]),\n",
    "    dash_table.DataTable(\n",
    "        id='expenses-table',\n",
    "        columns=[{'name': header, 'id': header} for header in expenses[0].keys()],\n",
    "        data=expenses\n",
    "    )\n",
    "])\n",
    "\n",
    "if __name__ == '__main__':\n",
    "    app.run(debug=True)"
   ]
  },
  {
   "cell_type": "code",
   "execution_count": null,
   "metadata": {},
   "outputs": [],
   "source": []
  }
 ],
 "metadata": {
  "kernelspec": {
   "display_name": "Python 3",
   "language": "python",
   "name": "python3"
  },
  "language_info": {
   "codemirror_mode": {
    "name": "ipython",
    "version": 3
   },
   "file_extension": ".py",
   "mimetype": "text/x-python",
   "name": "python",
   "nbconvert_exporter": "python",
   "pygments_lexer": "ipython3",
   "version": "3.11.5"
  }
 },
 "nbformat": 4,
 "nbformat_minor": 2
}
